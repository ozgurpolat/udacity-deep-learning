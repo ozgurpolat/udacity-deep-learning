{
 "cells": [
  {
   "cell_type": "markdown",
   "metadata": {
    "collapsed": true,
    "deletable": true,
    "editable": true
   },
   "source": [
    "# Image Classification\n",
    "In this project, you'll classify images from the [CIFAR-10 dataset](https://www.cs.toronto.edu/~kriz/cifar.html).  The dataset consists of airplanes, dogs, cats, and other objects. You'll preprocess the images, then train a convolutional neural network on all the samples. The images need to be normalized and the labels need to be one-hot encoded.  You'll get to apply what you learned and build a convolutional, max pooling, dropout, and fully connected layers.  At the end, you'll get to see your neural network's predictions on the sample images.\n",
    "## Get the Data\n",
    "Run the following cell to download the [CIFAR-10 dataset for python](https://www.cs.toronto.edu/~kriz/cifar-10-python.tar.gz)."
   ]
  },
  {
   "cell_type": "code",
   "execution_count": 2,
   "metadata": {
    "collapsed": false,
    "deletable": true,
    "editable": true
   },
   "outputs": [
    {
     "name": "stdout",
     "output_type": "stream",
     "text": [
      "All files found!\n"
     ]
    }
   ],
   "source": [
    "\"\"\"\n",
    "DON'T MODIFY ANYTHING IN THIS CELL THAT IS BELOW THIS LINE\n",
    "\"\"\"\n",
    "from urllib.request import urlretrieve\n",
    "from os.path import isfile, isdir\n",
    "from tqdm import tqdm\n",
    "import problem_unittests as tests\n",
    "import tarfile\n",
    "\n",
    "cifar10_dataset_folder_path = 'cifar-10-batches-py'\n",
    "\n",
    "class DLProgress(tqdm):\n",
    "    last_block = 0\n",
    "\n",
    "    def hook(self, block_num=1, block_size=1, total_size=None):\n",
    "        self.total = total_size\n",
    "        self.update((block_num - self.last_block) * block_size)\n",
    "        self.last_block = block_num\n",
    "\n",
    "if not isfile('cifar-10-python.tar.gz'):\n",
    "    with DLProgress(unit='B', unit_scale=True, miniters=1, desc='CIFAR-10 Dataset') as pbar:\n",
    "        urlretrieve(\n",
    "            'https://www.cs.toronto.edu/~kriz/cifar-10-python.tar.gz',\n",
    "            'cifar-10-python.tar.gz',\n",
    "            pbar.hook)\n",
    "\n",
    "if not isdir(cifar10_dataset_folder_path):\n",
    "    with tarfile.open('cifar-10-python.tar.gz') as tar:\n",
    "        tar.extractall()\n",
    "        tar.close()\n",
    "\n",
    "\n",
    "tests.test_folder_path(cifar10_dataset_folder_path)"
   ]
  },
  {
   "cell_type": "markdown",
   "metadata": {
    "deletable": true,
    "editable": true
   },
   "source": [
    "## Explore the Data\n",
    "The dataset is broken into batches to prevent your machine from running out of memory.  The CIFAR-10 dataset consists of 5 batches, named `data_batch_1`, `data_batch_2`, etc.. Each batch contains the labels and images that are one of the following:\n",
    "* airplane\n",
    "* automobile\n",
    "* bird\n",
    "* cat\n",
    "* deer\n",
    "* dog\n",
    "* frog\n",
    "* horse\n",
    "* ship\n",
    "* truck\n",
    "\n",
    "Understanding a dataset is part of making predictions on the data.  Play around with the code cell below by changing the `batch_id` and `sample_id`. The `batch_id` is the id for a batch (1-5). The `sample_id` is the id for a image and label pair in the batch.\n",
    "\n",
    "Ask yourself \"What are all possible labels?\", \"What is the range of values for the image data?\", \"Are the labels in order or random?\".  Answers to questions like these will help you preprocess the data and end up with better predictions."
   ]
  },
  {
   "cell_type": "code",
   "execution_count": 3,
   "metadata": {
    "collapsed": false,
    "deletable": true,
    "editable": true
   },
   "outputs": [
    {
     "name": "stdout",
     "output_type": "stream",
     "text": [
      "\n",
      "Stats of batch 1:\n",
      "Samples: 10000\n",
      "Label Counts: {0: 1005, 1: 974, 2: 1032, 3: 1016, 4: 999, 5: 937, 6: 1030, 7: 1001, 8: 1025, 9: 981}\n",
      "First 20 Labels: [6, 9, 9, 4, 1, 1, 2, 7, 8, 3, 4, 7, 7, 2, 9, 9, 9, 3, 2, 6]\n",
      "\n",
      "Example of Image 5:\n",
      "Image - Min Value: 0 Max Value: 252\n",
      "Image - Shape: (32, 32, 3)\n",
      "Label - Label Id: 1 Name: automobile\n"
     ]
    },
    {
     "data": {
      "image/png": "[encoded data removed]",
      "text/plain": [
       "<matplotlib.figure.Figure at 0x7f27f5c8cc88>"
      ]
     },
     "metadata": {
      "image/png": {
       "height": 250,
       "width": 253
      }
     },
     "output_type": "display_data"
    }
   ],
   "source": [
    "%matplotlib inline\n",
    "%config InlineBackend.figure_format = 'retina'\n",
    "\n",
    "import helper\n",
    "import numpy as np\n",
    "\n",
    "# Explore the dataset\n",
    "batch_id = 1\n",
    "sample_id = 5\n",
    "helper.display_stats(cifar10_dataset_folder_path, batch_id, sample_id)"
   ]
  },
  {
   "cell_type": "markdown",
   "metadata": {
    "deletable": true,
    "editable": true
   },
   "source": [
    "## Implement Preprocess Functions\n",
    "### Normalize\n",
    "In the cell below, implement the `normalize` function to take in image data, `x`, and return it as a normalized Numpy array. The values should be in the range of 0 to 1, inclusive.  The return object should be the same shape as `x`."
   ]
  },
  {
   "cell_type": "code",
   "execution_count": 4,
   "metadata": {
    "collapsed": false,
    "deletable": true,
    "editable": true
   },
   "outputs": [
    {
     "name": "stdout",
     "output_type": "stream",
     "text": [
      "Tests Passed\n"
     ]
    }
   ],
   "source": [
    "def normalize(x):\n",
    "    \"\"\"\n",
    "    Normalize a list of sample image data in the range of 0 to 1\n",
    "    : x: List of image data.  The image shape is (32, 32, 3)\n",
    "    : return: Numpy array of normalize data\n",
    "    \"\"\"\n",
    "    # TODO: Implement Function\n",
    "    return x/255\n",
    "\n",
    "\n",
    "\"\"\"\n",
    "DON'T MODIFY ANYTHING IN THIS CELL THAT IS BELOW THIS LINE\n",
    "\"\"\"\n",
    "tests.test_normalize(normalize)"
   ]
  },
  {
   "cell_type": "markdown",
   "metadata": {
    "deletable": true,
    "editable": true
   },
   "source": [
    "### One-hot encode\n",
    "Just like the previous code cell, you'll be implementing a function for preprocessing.  This time, you'll implement the `one_hot_encode` function. The input, `x`, are a list of labels.  Implement the function to return the list of labels as One-Hot encoded Numpy array.  The possible values for labels are 0 to 9. The one-hot encoding function should return the same encoding for each value between each call to `one_hot_encode`.  Make sure to save the map of encodings outside the function.\n",
    "\n",
    "Hint: Don't reinvent the wheel."
   ]
  },
  {
   "cell_type": "code",
   "execution_count": 5,
   "metadata": {
    "collapsed": false,
    "deletable": true,
    "editable": true
   },
   "outputs": [
    {
     "name": "stdout",
     "output_type": "stream",
     "text": [
      "Tests Passed\n"
     ]
    }
   ],
   "source": [
    "def one_hot_encode(x):\n",
    "    \"\"\"\n",
    "    One hot encode a list of sample labels. Return a one-hot encoded vector for each label.\n",
    "    : x: List of sample Labels\n",
    "    : return: Numpy array of one-hot encoded labels\n",
    "    \"\"\"\n",
    "    # TODO: Implement Function\n",
    "    a = np.zeros((len(x), 10)) #known label range: 0-9  \n",
    "    for i, j in enumerate(x):\n",
    "        a[i, j] = 1\n",
    "    \n",
    "    return a\n",
    "\n",
    "\n",
    "\"\"\"\n",
    "DON'T MODIFY ANYTHING IN THIS CELL THAT IS BELOW THIS LINE\n",
    "\"\"\"\n",
    "tests.test_one_hot_encode(one_hot_encode)"
   ]
  },
  {
   "cell_type": "markdown",
   "metadata": {
    "deletable": true,
    "editable": true
   },
   "source": [
    "### Randomize Data\n",
    "As you saw from exploring the data above, the order of the samples are randomized.  It doesn't hurt to randomize it again, but you don't need to for this dataset."
   ]
  },
  {
   "cell_type": "markdown",
   "metadata": {
    "deletable": true,
    "editable": true
   },
   "source": [
    "## Preprocess all the data and save it\n",
    "Running the code cell below will preprocess all the CIFAR-10 data and save it to file. The code below also uses 10% of the training data for validation."
   ]
  },
  {
   "cell_type": "code",
   "execution_count": 6,
   "metadata": {
    "collapsed": false,
    "deletable": true,
    "editable": true
   },
   "outputs": [],
   "source": [
    "\"\"\"\n",
    "DON'T MODIFY ANYTHING IN THIS CELL\n",
    "\"\"\"\n",
    "# Preprocess Training, Validation, and Testing Data\n",
    "helper.preprocess_and_save_data(cifar10_dataset_folder_path, normalize, one_hot_encode)"
   ]
  },
  {
   "cell_type": "markdown",
   "metadata": {
    "deletable": true,
    "editable": true
   },
   "source": [
    "# Check Point\n",
    "This is your first checkpoint.  If you ever decide to come back to this notebook or have to restart the notebook, you can start from here.  The preprocessed data has been saved to disk."
   ]
  },
  {
   "cell_type": "code",
   "execution_count": 7,
   "metadata": {
    "collapsed": true,
    "deletable": true,
    "editable": true
   },
   "outputs": [],
   "source": [
    "\"\"\"\n",
    "DON'T MODIFY ANYTHING IN THIS CELL\n",
    "\"\"\"\n",
    "import pickle\n",
    "import problem_unittests as tests\n",
    "import helper\n",
    "\n",
    "# Load the Preprocessed Validation data\n",
    "valid_features, valid_labels = pickle.load(open('preprocess_validation.p', mode='rb'))"
   ]
  },
  {
   "cell_type": "markdown",
   "metadata": {
    "deletable": true,
    "editable": true
   },
   "source": [
    "## Build the network\n",
    "For the neural network, you'll build each layer into a function.  Most of the code you've seen has been outside of functions. To test your code more thoroughly, we require that you put each layer in a function.  This allows us to give you better feedback and test for simple mistakes using our unittests before you submit your project.\n",
    "\n",
    ">**Note:** If you're finding it hard to dedicate enough time for this course each week, we've provided a small shortcut to this part of the project. In the next couple of problems, you'll have the option to use classes from the [TensorFlow Layers](https://www.tensorflow.org/api_docs/python/tf/layers) or [TensorFlow Layers (contrib)](https://www.tensorflow.org/api_guides/python/contrib.layers) packages to build each layer, except the layers you build in the \"Convolutional and Max Pooling Layer\" section.  TF Layers is similar to Keras's and TFLearn's abstraction to layers, so it's easy to pickup.\n",
    "\n",
    ">However, if you would like to get the most out of this course, try to solve all the problems _without_ using anything from the TF Layers packages. You **can** still use classes from other packages that happen to have the same name as ones you find in TF Layers! For example, instead of using the TF Layers version of the `conv2d` class, [tf.layers.conv2d](https://www.tensorflow.org/api_docs/python/tf/layers/conv2d), you would want to use the TF Neural Network version of `conv2d`, [tf.nn.conv2d](https://www.tensorflow.org/api_docs/python/tf/nn/conv2d). \n",
    "\n",
    "Let's begin!\n",
    "\n",
    "### Input\n",
    "The neural network needs to read the image data, one-hot encoded labels, and dropout keep probability. Implement the following functions\n",
    "* Implement `neural_net_image_input`\n",
    " * Return a [TF Placeholder](https://www.tensorflow.org/api_docs/python/tf/placeholder)\n",
    " * Set the shape using `image_shape` with batch size set to `None`.\n",
    " * Name the TensorFlow placeholder \"x\" using the TensorFlow `name` parameter in the [TF Placeholder](https://www.tensorflow.org/api_docs/python/tf/placeholder).\n",
    "* Implement `neural_net_label_input`\n",
    " * Return a [TF Placeholder](https://www.tensorflow.org/api_docs/python/tf/placeholder)\n",
    " * Set the shape using `n_classes` with batch size set to `None`.\n",
    " * Name the TensorFlow placeholder \"y\" using the TensorFlow `name` parameter in the [TF Placeholder](https://www.tensorflow.org/api_docs/python/tf/placeholder).\n",
    "* Implement `neural_net_keep_prob_input`\n",
    " * Return a [TF Placeholder](https://www.tensorflow.org/api_docs/python/tf/placeholder) for dropout keep probability.\n",
    " * Name the TensorFlow placeholder \"keep_prob\" using the TensorFlow `name` parameter in the [TF Placeholder](https://www.tensorflow.org/api_docs/python/tf/placeholder).\n",
    "\n",
    "These names will be used at the end of the project to load your saved model.\n",
    "\n",
    "Note: `None` for shapes in TensorFlow allow for a dynamic size."
   ]
  },
  {
   "cell_type": "code",
   "execution_count": 8,
   "metadata": {
    "collapsed": false,
    "deletable": true,
    "editable": true
   },
   "outputs": [
    {
     "name": "stdout",
     "output_type": "stream",
     "text": [
      "Image Input Tests Passed.\n",
      "Label Input Tests Passed.\n",
      "Keep Prob Tests Passed.\n"
     ]
    }
   ],
   "source": [
    "import tensorflow as tf\n",
    "\n",
    "def neural_net_image_input(image_shape):\n",
    "    \"\"\"\n",
    "    Return a Tensor for a batch of image input\n",
    "    : image_shape: Shape of the images\n",
    "    : return: Tensor for image input.\n",
    "    \"\"\"\n",
    "    # TODO: Implement Function\n",
    "    input = tf.placeholder(tf.float32, shape=[None, image_shape[0], image_shape[1], image_shape[2]], name='x')\n",
    "\n",
    "    return input\n",
    "\n",
    "\n",
    "def neural_net_label_input(n_classes):\n",
    "    \"\"\"\n",
    "    Return a Tensor for a batch of label input\n",
    "    : n_classes: Number of classes\n",
    "    : return: Tensor for label input.\n",
    "    \"\"\"\n",
    "    # TODO: Implement Function\n",
    "    label_input = tf.placeholder(tf.float32, shape=[None, n_classes], name='y')\n",
    "\n",
    "    return label_input\n",
    "\n",
    "\n",
    "def neural_net_keep_prob_input():\n",
    "    \"\"\"\n",
    "    Return a Tensor for keep probability\n",
    "    : return: Tensor for keep probability.\n",
    "    \"\"\"\n",
    "    # TODO: Implement Function\n",
    "    keep_prob = tf.placeholder(tf.float32, name='keep_prob')\n",
    "    \n",
    "    return keep_prob\n",
    "\n",
    "\n",
    "\"\"\"\n",
    "DON'T MODIFY ANYTHING IN THIS CELL THAT IS BELOW THIS LINE\n",
    "\"\"\"\n",
    "tf.reset_default_graph()\n",
    "tests.test_nn_image_inputs(neural_net_image_input)\n",
    "tests.test_nn_label_inputs(neural_net_label_input)\n",
    "tests.test_nn_keep_prob_inputs(neural_net_keep_prob_input)"
   ]
  },
  {
   "cell_type": "markdown",
   "metadata": {
    "deletable": true,
    "editable": true
   },
   "source": [
    "### Convolution and Max Pooling Layer\n",
    "Convolution layers have a lot of success with images. For this code cell, you should implement the function `conv2d_maxpool` to apply convolution then max pooling:\n",
    "* Create the weight and bias using `conv_ksize`, `conv_num_outputs` and the shape of `x_tensor`.\n",
    "* Apply a convolution to `x_tensor` using weight and `conv_strides`.\n",
    " * We recommend you use same padding, but you're welcome to use any padding.\n",
    "* Add bias\n",
    "* Add a nonlinear activation to the convolution.\n",
    "* Apply Max Pooling using `pool_ksize` and `pool_strides`.\n",
    " * We recommend you use same padding, but you're welcome to use any padding.\n",
    "\n",
    "**Note:** You **can't** use [TensorFlow Layers](https://www.tensorflow.org/api_docs/python/tf/layers) or [TensorFlow Layers (contrib)](https://www.tensorflow.org/api_guides/python/contrib.layers) for **this** layer, but you can still use TensorFlow's [Neural Network](https://www.tensorflow.org/api_docs/python/tf/nn) package. You may still use the shortcut option for all the **other** layers."
   ]
  },
  {
   "cell_type": "code",
   "execution_count": 9,
   "metadata": {
    "collapsed": false,
    "deletable": true,
    "editable": true
   },
   "outputs": [
    {
     "name": "stdout",
     "output_type": "stream",
     "text": [
      "Tests Passed\n"
     ]
    }
   ],
   "source": [
    "def conv2d_maxpool(x_tensor, conv_num_outputs, conv_ksize, conv_strides, pool_ksize, pool_strides):\n",
    "    \"\"\"\n",
    "    Apply convolution then max pooling to x_tensor\n",
    "    :param x_tensor: TensorFlow Tensor\n",
    "    :param conv_num_outputs: Number of outputs for the convolutional layer\n",
    "    :param conv_ksize: kernal size 2-D Tuple for the convolutional layer\n",
    "    :param conv_strides: Stride 2-D Tuple for convolution\n",
    "    :param pool_ksize: kernal size 2-D Tuple for pool\n",
    "    :param pool_strides: Stride 2-D Tuple for pool\n",
    "    : return: A tensor that represents convolution and max pooling of x_tensor\n",
    "    \"\"\"\n",
    "    # TODO: Implement Function\n",
    "    \n",
    "    # Store layers weight & bias\n",
    "    W = tf.Variable(tf.truncated_normal([conv_ksize[0],\n",
    "                                         conv_ksize[1],\n",
    "                                         x_tensor.get_shape().as_list()[-1],\n",
    "                                         conv_num_outputs], mean=0.0, stddev=0.05, dtype=tf.float32))\n",
    "\n",
    "    b = tf.Variable(tf.zeros([conv_num_outputs]))\n",
    "\n",
    "    conv2d = tf.nn.conv2d(\n",
    "        x_tensor, \n",
    "        W, \n",
    "        strides=[1, conv_strides[0], conv_strides[1], 1],\n",
    "        padding='SAME')\n",
    "\n",
    "    conv2d = tf.nn.bias_add(conv2d, b)\n",
    "\n",
    "    conv2d = tf.nn.relu(conv2d)\n",
    "\n",
    "    maxpool = tf.nn.max_pool(\n",
    "        conv2d, \n",
    "        ksize=[1, pool_ksize[0], pool_ksize[1], 1],\n",
    "        strides=[1, pool_strides[0], pool_strides[1], 1],\n",
    "        padding='SAME')\n",
    "    \n",
    "    return maxpool \n",
    "\n",
    "\n",
    "\"\"\"\n",
    "DON'T MODIFY ANYTHING IN THIS CELL THAT IS BELOW THIS LINE\n",
    "\"\"\"\n",
    "tests.test_con_pool(conv2d_maxpool)"
   ]
  },
  {
   "cell_type": "markdown",
   "metadata": {
    "deletable": true,
    "editable": true
   },
   "source": [
    "### Flatten Layer\n",
    "Implement the `flatten` function to change the dimension of `x_tensor` from a 4-D tensor to a 2-D tensor.  The output should be the shape (*Batch Size*, *Flattened Image Size*). Shortcut option: you can use classes from the [TensorFlow Layers](https://www.tensorflow.org/api_docs/python/tf/layers) or [TensorFlow Layers (contrib)](https://www.tensorflow.org/api_guides/python/contrib.layers) packages for this layer. For more of a challenge, only use other TensorFlow packages."
   ]
  },
  {
   "cell_type": "code",
   "execution_count": 10,
   "metadata": {
    "collapsed": false,
    "deletable": true,
    "editable": true
   },
   "outputs": [
    {
     "name": "stdout",
     "output_type": "stream",
     "text": [
      "Tests Passed\n"
     ]
    }
   ],
   "source": [
    "def flatten(x_tensor):\n",
    "    \"\"\"\n",
    "    Flatten x_tensor to (Batch Size, Flattened Image Size)\n",
    "    : x_tensor: A tensor of size (Batch Size, ...), where ... are the image dimensions.\n",
    "    : return: A tensor of size (Batch Size, Flattened Image Size).\n",
    "    \"\"\"\n",
    "    # TODO: Implement Function\n",
    "    import numpy as np\n",
    "    \n",
    "    Four_D = x_tensor.get_shape()\n",
    "    Two_D = np.prod([x for x in Four_D[1:]])\n",
    "    \n",
    "    return tf.reshape(x_tensor, [-1, Two_D.value])\n",
    "\n",
    "\n",
    "\"\"\"\n",
    "DON'T MODIFY ANYTHING IN THIS CELL THAT IS BELOW THIS LINE\n",
    "\"\"\"\n",
    "tests.test_flatten(flatten)"
   ]
  },
  {
   "cell_type": "markdown",
   "metadata": {
    "deletable": true,
    "editable": true
   },
   "source": [
    "### Fully-Connected Layer\n",
    "Implement the `fully_conn` function to apply a fully connected layer to `x_tensor` with the shape (*Batch Size*, *num_outputs*). Shortcut option: you can use classes from the [TensorFlow Layers](https://www.tensorflow.org/api_docs/python/tf/layers) or [TensorFlow Layers (contrib)](https://www.tensorflow.org/api_guides/python/contrib.layers) packages for this layer. For more of a challenge, only use other TensorFlow packages."
   ]
  },
  {
   "cell_type": "code",
   "execution_count": 11,
   "metadata": {
    "collapsed": false,
    "deletable": true,
    "editable": true
   },
   "outputs": [
    {
     "name": "stdout",
     "output_type": "stream",
     "text": [
      "Tests Passed\n"
     ]
    }
   ],
   "source": [
    "def fully_conn(x_tensor, num_outputs):\n",
    "    \"\"\"\n",
    "    Apply a fully connected layer to x_tensor using weight and bias\n",
    "    : x_tensor: A 2-D tensor where the first dimension is batch size.\n",
    "    : num_outputs: The number of output that the new tensor should be.\n",
    "    : return: A 2-D tensor where the second dimension is num_outputs.\n",
    "    \"\"\"\n",
    "    # TODO: Implement Function    \n",
    "    \n",
    "    return tf.layers.dense(inputs=x_tensor, units=num_outputs, activation=tf.nn.relu)\n",
    "\n",
    "\n",
    "\"\"\"\n",
    "DON'T MODIFY ANYTHING IN THIS CELL THAT IS BELOW THIS LINE\n",
    "\"\"\"\n",
    "tests.test_fully_conn(fully_conn)"
   ]
  },
  {
   "cell_type": "markdown",
   "metadata": {
    "deletable": true,
    "editable": true
   },
   "source": [
    "### Output Layer\n",
    "Implement the `output` function to apply a fully connected layer to `x_tensor` with the shape (*Batch Size*, *num_outputs*). Shortcut option: you can use classes from the [TensorFlow Layers](https://www.tensorflow.org/api_docs/python/tf/layers) or [TensorFlow Layers (contrib)](https://www.tensorflow.org/api_guides/python/contrib.layers) packages for this layer. For more of a challenge, only use other TensorFlow packages.\n",
    "\n",
    "**Note:** Activation, softmax, or cross entropy should **not** be applied to this."
   ]
  },
  {
   "cell_type": "code",
   "execution_count": 12,
   "metadata": {
    "collapsed": false,
    "deletable": true,
    "editable": true
   },
   "outputs": [
    {
     "name": "stdout",
     "output_type": "stream",
     "text": [
      "Tests Passed\n"
     ]
    }
   ],
   "source": [
    "def output(x_tensor, num_outputs):\n",
    "    \"\"\"\n",
    "    Apply a output layer to x_tensor using weight and bias\n",
    "    : x_tensor: A 2-D tensor where the first dimension is batch size.\n",
    "    : num_outputs: The number of output that the new tensor should be.\n",
    "    : return: A 2-D tensor where the second dimension is num_outputs.\n",
    "    \"\"\"\n",
    "    # TODO: Implement Function\n",
    "    return tf.contrib.layers.fully_connected(x_tensor,num_outputs, activation_fn=None)\n",
    "\n",
    "\n",
    "\"\"\"\n",
    "DON'T MODIFY ANYTHING IN THIS CELL THAT IS BELOW THIS LINE\n",
    "\"\"\"\n",
    "tests.test_output(output)"
   ]
  },
  {
   "cell_type": "markdown",
   "metadata": {
    "deletable": true,
    "editable": true
   },
   "source": [
    "### Create Convolutional Model\n",
    "Implement the function `conv_net` to create a convolutional neural network model. The function takes in a batch of images, `x`, and outputs logits.  Use the layers you created above to create this model:\n",
    "\n",
    "* Apply 1, 2, or 3 Convolution and Max Pool layers\n",
    "* Apply a Flatten Layer\n",
    "* Apply 1, 2, or 3 Fully Connected Layers\n",
    "* Apply an Output Layer\n",
    "* Return the output\n",
    "* Apply [TensorFlow's Dropout](https://www.tensorflow.org/api_docs/python/tf/nn/dropout) to one or more layers in the model using `keep_prob`. "
   ]
  },
  {
   "cell_type": "code",
   "execution_count": 13,
   "metadata": {
    "collapsed": false,
    "deletable": true,
    "editable": true
   },
   "outputs": [
    {
     "name": "stdout",
     "output_type": "stream",
     "text": [
      "Neural Network Built!\n"
     ]
    }
   ],
   "source": [
    "def conv_net(x, keep_prob):\n",
    "    \"\"\"\n",
    "    Create a convolutional neural network model\n",
    "    : x: Placeholder tensor that holds image data.\n",
    "    : keep_prob: Placeholder tensor that hold dropout keep probability.\n",
    "    : return: Tensor that represents logits\n",
    "    \"\"\"\n",
    "    # TODO: Apply 1, 2, or 3 Convolution and Max Pool layers\n",
    "    #    Play around with different number of outputs, kernel size and stride\n",
    "    # Function Definition from Above:\n",
    "    #    conv2d_maxpool(x_tensor, conv_num_outputs, conv_ksize, conv_strides, pool_ksize, pool_strides)\n",
    "    #conv = conv2d_maxpool(x_tensor, conv_num_outputs, conv_ksize, conv_strides, pool_ksize, pool_strides)\n",
    "    x = conv2d_maxpool(x, 64, (2, 2), (1, 1), (2, 2), (2, 2))\n",
    "    x = tf.nn.dropout(x, keep_prob)\n",
    "    x = conv2d_maxpool(x, 128, (2, 2), (1, 1), (2, 2), (2, 2))\n",
    "    x = tf.nn.dropout(x, keep_prob)\n",
    "    x = conv2d_maxpool(x, 128, (2, 2), (1, 1), (2, 2), (2, 2))\n",
    "    \n",
    "    # TODO: Apply a Flatten Layer\n",
    "    # Function Definition from Above:\n",
    "    #   flatten(x_tensor)\n",
    "    flattened = flatten(x)\n",
    "\n",
    "    # TODO: Apply 1, 2, or 3 Fully Connected Layers\n",
    "    #    Play around with different number of outputs\n",
    "    # Function Definition from Above:\n",
    "    #   fully_conn(x_tensor, num_outputs)\n",
    "    fully_connected = fully_conn(flattened, num_outputs=256)\n",
    "    \n",
    "    # TODO: Apply an Output Layer\n",
    "    #    Set this to the number of classes\n",
    "    # Function Definition from Above:\n",
    "    #   output(x_tensor, num_outputs)\n",
    "    out = output(fully_connected, num_outputs=10)\n",
    "    \n",
    "    # TODO: return output\n",
    "    return out\n",
    "\n",
    "\n",
    "\"\"\"\n",
    "DON'T MODIFY ANYTHING IN THIS CELL THAT IS BELOW THIS LINE\n",
    "\"\"\"\n",
    "\n",
    "##############################\n",
    "## Build the Neural Network ##\n",
    "##############################\n",
    "\n",
    "# Remove previous weights, bias, inputs, etc..\n",
    "tf.reset_default_graph()\n",
    "\n",
    "# Inputs\n",
    "x = neural_net_image_input((32, 32, 3))\n",
    "y = neural_net_label_input(10)\n",
    "keep_prob = neural_net_keep_prob_input()\n",
    "\n",
    "# Model\n",
    "logits = conv_net(x, keep_prob)\n",
    "\n",
    "# Name logits Tensor, so that is can be loaded from disk after training\n",
    "logits = tf.identity(logits, name='logits')\n",
    "\n",
    "# Loss and Optimizer\n",
    "cost = tf.reduce_mean(tf.nn.softmax_cross_entropy_with_logits(logits=logits, labels=y))\n",
    "optimizer = tf.train.AdamOptimizer().minimize(cost)\n",
    "\n",
    "# Accuracy\n",
    "correct_pred = tf.equal(tf.argmax(logits, 1), tf.argmax(y, 1))\n",
    "accuracy = tf.reduce_mean(tf.cast(correct_pred, tf.float32), name='accuracy')\n",
    "\n",
    "tests.test_conv_net(conv_net)"
   ]
  },
  {
   "cell_type": "markdown",
   "metadata": {
    "deletable": true,
    "editable": true
   },
   "source": [
    "## Train the Neural Network\n",
    "### Single Optimization\n",
    "Implement the function `train_neural_network` to do a single optimization.  The optimization should use `optimizer` to optimize in `session` with a `feed_dict` of the following:\n",
    "* `x` for image input\n",
    "* `y` for labels\n",
    "* `keep_prob` for keep probability for dropout\n",
    "\n",
    "This function will be called for each batch, so `tf.global_variables_initializer()` has already been called.\n",
    "\n",
    "Note: Nothing needs to be returned. This function is only optimizing the neural network."
   ]
  },
  {
   "cell_type": "code",
   "execution_count": 14,
   "metadata": {
    "collapsed": false,
    "deletable": true,
    "editable": true
   },
   "outputs": [
    {
     "name": "stdout",
     "output_type": "stream",
     "text": [
      "Tests Passed\n"
     ]
    }
   ],
   "source": [
    "def train_neural_network(session, optimizer, keep_probability, feature_batch, label_batch):\n",
    "    \"\"\"\n",
    "    Optimize the session on a batch of images and labels\n",
    "    : session: Current TensorFlow session\n",
    "    : optimizer: TensorFlow optimizer function\n",
    "    : keep_probability: keep probability\n",
    "    : feature_batch: Batch of Numpy image data\n",
    "    : label_batch: Batch of Numpy label data\n",
    "    \"\"\"\n",
    "    # TODO: Implement Function\n",
    "    session.run(optimizer, feed_dict={x: feature_batch, y: label_batch, keep_prob: keep_probability})\n",
    "\n",
    "\n",
    "\"\"\"\n",
    "DON'T MODIFY ANYTHING IN THIS CELL THAT IS BELOW THIS LINE\n",
    "\"\"\"\n",
    "tests.test_train_nn(train_neural_network)"
   ]
  },
  {
   "cell_type": "markdown",
   "metadata": {
    "deletable": true,
    "editable": true
   },
   "source": [
    "### Show Stats\n",
    "Implement the function `print_stats` to print loss and validation accuracy.  Use the global variables `valid_features` and `valid_labels` to calculate validation accuracy.  Use a keep probability of `1.0` to calculate the loss and validation accuracy."
   ]
  },
  {
   "cell_type": "code",
   "execution_count": 15,
   "metadata": {
    "collapsed": false,
    "deletable": true,
    "editable": true
   },
   "outputs": [],
   "source": [
    "def print_stats(session, feature_batch, label_batch, cost, accuracy):\n",
    "    \"\"\"\n",
    "    Print information about loss and validation accuracy\n",
    "    : session: Current TensorFlow session\n",
    "    : feature_batch: Batch of Numpy image data\n",
    "    : label_batch: Batch of Numpy label data\n",
    "    : cost: TensorFlow cost function\n",
    "    : accuracy: TensorFlow accuracy function\n",
    "    \"\"\"\n",
    "    # TODO: Implement Function  \n",
    "    loss = session.run(cost, feed_dict={x: feature_batch, y: label_batch, keep_prob: 1.0})\n",
    "    valid_acc = session.run(accuracy, feed_dict={x: valid_features, y: valid_labels, keep_prob: 1.0})\n",
    "    print('Loss: {} Validation Accuracy: {}'.format(loss, valid_acc))"
   ]
  },
  {
   "cell_type": "markdown",
   "metadata": {
    "deletable": true,
    "editable": true
   },
   "source": [
    "### Hyperparameters\n",
    "Tune the following parameters:\n",
    "* Set `epochs` to the number of iterations until the network stops learning or start overfitting\n",
    "* Set `batch_size` to the highest number that your machine has memory for.  Most people set them to common sizes of memory:\n",
    " * 64\n",
    " * 128\n",
    " * 256\n",
    " * ...\n",
    "* Set `keep_probability` to the probability of keeping a node using dropout"
   ]
  },
  {
   "cell_type": "code",
   "execution_count": 16,
   "metadata": {
    "collapsed": true,
    "deletable": true,
    "editable": true
   },
   "outputs": [],
   "source": [
    "# TODO: Tune Parameters\n",
    "epochs = 50\n",
    "batch_size = 256\n",
    "keep_probability = 0.75"
   ]
  },
  {
   "cell_type": "markdown",
   "metadata": {
    "deletable": true,
    "editable": true
   },
   "source": [
    "### Train on a Single CIFAR-10 Batch\n",
    "Instead of training the neural network on all the CIFAR-10 batches of data, let's use a single batch. This should save time while you iterate on the model to get a better accuracy.  Once the final validation accuracy is 50% or greater, run the model on all the data in the next section."
   ]
  },
  {
   "cell_type": "code",
   "execution_count": 17,
   "metadata": {
    "collapsed": false,
    "deletable": true,
    "editable": true
   },
   "outputs": [
    {
     "name": "stdout",
     "output_type": "stream",
     "text": [
      "Checking the Training on a Single Batch...\n",
      "Epoch  1, CIFAR-10 Batch 1:  Loss: 2.195788621902466 Validation Accuracy: 0.2555999755859375\n",
      "Epoch  2, CIFAR-10 Batch 1:  Loss: 2.038031578063965 Validation Accuracy: 0.3357999920845032\n",
      "Epoch  3, CIFAR-10 Batch 1:  Loss: 1.8319427967071533 Validation Accuracy: 0.3938000202178955\n",
      "Epoch  4, CIFAR-10 Batch 1:  Loss: 1.7097821235656738 Validation Accuracy: 0.4253999888896942\n",
      "Epoch  5, CIFAR-10 Batch 1:  Loss: 1.5916354656219482 Validation Accuracy: 0.45379993319511414\n",
      "Epoch  6, CIFAR-10 Batch 1:  Loss: 1.466933012008667 Validation Accuracy: 0.48799994587898254\n",
      "Epoch  7, CIFAR-10 Batch 1:  Loss: 1.3538624048233032 Validation Accuracy: 0.509399950504303\n",
      "Epoch  8, CIFAR-10 Batch 1:  Loss: 1.207889437675476 Validation Accuracy: 0.5331999659538269\n",
      "Epoch  9, CIFAR-10 Batch 1:  Loss: 1.1447120904922485 Validation Accuracy: 0.5259999632835388\n",
      "Epoch 10, CIFAR-10 Batch 1:  Loss: 1.012130856513977 Validation Accuracy: 0.5435999035835266\n",
      "Epoch 11, CIFAR-10 Batch 1:  Loss: 0.933547854423523 Validation Accuracy: 0.5519999265670776\n",
      "Epoch 12, CIFAR-10 Batch 1:  Loss: 0.8098767995834351 Validation Accuracy: 0.5571998953819275\n",
      "Epoch 13, CIFAR-10 Batch 1:  Loss: 0.7164173126220703 Validation Accuracy: 0.568199872970581\n",
      "Epoch 14, CIFAR-10 Batch 1:  Loss: 0.6658921241760254 Validation Accuracy: 0.5735998749732971\n",
      "Epoch 15, CIFAR-10 Batch 1:  Loss: 0.5903255939483643 Validation Accuracy: 0.578999936580658\n",
      "Epoch 16, CIFAR-10 Batch 1:  Loss: 0.5120422840118408 Validation Accuracy: 0.5839998722076416\n",
      "Epoch 17, CIFAR-10 Batch 1:  Loss: 0.4527197480201721 Validation Accuracy: 0.5763999223709106\n",
      "Epoch 18, CIFAR-10 Batch 1:  Loss: 0.4266364872455597 Validation Accuracy: 0.5755999088287354\n",
      "Epoch 19, CIFAR-10 Batch 1:  Loss: 0.34916648268699646 Validation Accuracy: 0.5805999636650085\n",
      "Epoch 20, CIFAR-10 Batch 1:  Loss: 0.3122505843639374 Validation Accuracy: 0.6063998937606812\n",
      "Epoch 21, CIFAR-10 Batch 1:  Loss: 0.27889400720596313 Validation Accuracy: 0.6013999581336975\n",
      "Epoch 22, CIFAR-10 Batch 1:  Loss: 0.28161683678627014 Validation Accuracy: 0.5987999439239502\n",
      "Epoch 23, CIFAR-10 Batch 1:  Loss: 0.20232710242271423 Validation Accuracy: 0.6119999289512634\n",
      "Epoch 24, CIFAR-10 Batch 1:  Loss: 0.18568792939186096 Validation Accuracy: 0.6053999662399292\n",
      "Epoch 25, CIFAR-10 Batch 1:  Loss: 0.18451236188411713 Validation Accuracy: 0.6059998869895935\n",
      "Epoch 26, CIFAR-10 Batch 1:  Loss: 0.13166578114032745 Validation Accuracy: 0.6041998863220215\n",
      "Epoch 27, CIFAR-10 Batch 1:  Loss: 0.12429870665073395 Validation Accuracy: 0.6055998802185059\n",
      "Epoch 28, CIFAR-10 Batch 1:  Loss: 0.14024432003498077 Validation Accuracy: 0.6003999710083008\n",
      "Epoch 29, CIFAR-10 Batch 1:  Loss: 0.09356145560741425 Validation Accuracy: 0.6037999391555786\n",
      "Epoch 30, CIFAR-10 Batch 1:  Loss: 0.0893905982375145 Validation Accuracy: 0.6037998795509338\n",
      "Epoch 31, CIFAR-10 Batch 1:  Loss: 0.09622206538915634 Validation Accuracy: 0.6019998788833618\n",
      "Epoch 32, CIFAR-10 Batch 1:  Loss: 0.07519417256116867 Validation Accuracy: 0.6081998944282532\n",
      "Epoch 33, CIFAR-10 Batch 1:  Loss: 0.06579075753688812 Validation Accuracy: 0.6111998558044434\n",
      "Epoch 34, CIFAR-10 Batch 1:  Loss: 0.06782995164394379 Validation Accuracy: 0.6133999824523926\n",
      "Epoch 35, CIFAR-10 Batch 1:  Loss: 0.0761067196726799 Validation Accuracy: 0.5941998958587646\n",
      "Epoch 36, CIFAR-10 Batch 1:  Loss: 0.05565490573644638 Validation Accuracy: 0.6007999181747437\n",
      "Epoch 37, CIFAR-10 Batch 1:  Loss: 0.045824289321899414 Validation Accuracy: 0.6059999465942383\n",
      "Epoch 38, CIFAR-10 Batch 1:  Loss: 0.03666209056973457 Validation Accuracy: 0.6093999147415161\n",
      "Epoch 39, CIFAR-10 Batch 1:  Loss: 0.029686644673347473 Validation Accuracy: 0.6061999201774597\n",
      "Epoch 40, CIFAR-10 Batch 1:  Loss: 0.028485223650932312 Validation Accuracy: 0.6059999465942383\n",
      "Epoch 41, CIFAR-10 Batch 1:  Loss: 0.0490928590297699 Validation Accuracy: 0.593999981880188\n",
      "Epoch 42, CIFAR-10 Batch 1:  Loss: 0.04115232825279236 Validation Accuracy: 0.5901999473571777\n",
      "Epoch 43, CIFAR-10 Batch 1:  Loss: 0.030841587111353874 Validation Accuracy: 0.579399824142456\n",
      "Epoch 44, CIFAR-10 Batch 1:  Loss: 0.03250334411859512 Validation Accuracy: 0.5921999216079712\n",
      "Epoch 45, CIFAR-10 Batch 1:  Loss: 0.036923158913850784 Validation Accuracy: 0.5731999278068542\n",
      "Epoch 46, CIFAR-10 Batch 1:  Loss: 0.02311868779361248 Validation Accuracy: 0.5881999135017395\n",
      "Epoch 47, CIFAR-10 Batch 1:  Loss: 0.026104478165507317 Validation Accuracy: 0.5823999643325806\n",
      "Epoch 48, CIFAR-10 Batch 1:  Loss: 0.024286629632115364 Validation Accuracy: 0.5813999772071838\n",
      "Epoch 49, CIFAR-10 Batch 1:  Loss: 0.028310175985097885 Validation Accuracy: 0.5979998707771301\n",
      "Epoch 50, CIFAR-10 Batch 1:  Loss: 0.022683685645461082 Validation Accuracy: 0.5983998775482178\n"
     ]
    }
   ],
   "source": [
    "\"\"\"\n",
    "DON'T MODIFY ANYTHING IN THIS CELL\n",
    "\"\"\"\n",
    "print('Checking the Training on a Single Batch...')\n",
    "with tf.Session() as sess:\n",
    "    # Initializing the variables\n",
    "    sess.run(tf.global_variables_initializer())\n",
    "    \n",
    "    # Training cycle\n",
    "    for epoch in range(epochs):\n",
    "        batch_i = 1\n",
    "        for batch_features, batch_labels in helper.load_preprocess_training_batch(batch_i, batch_size):\n",
    "            train_neural_network(sess, optimizer, keep_probability, batch_features, batch_labels)\n",
    "        print('Epoch {:>2}, CIFAR-10 Batch {}:  '.format(epoch + 1, batch_i), end='')\n",
    "        print_stats(sess, batch_features, batch_labels, cost, accuracy)"
   ]
  },
  {
   "cell_type": "markdown",
   "metadata": {
    "deletable": true,
    "editable": true
   },
   "source": [
    "### Fully Train the Model\n",
    "Now that you got a good accuracy with a single CIFAR-10 batch, try it with all five batches."
   ]
  },
  {
   "cell_type": "code",
   "execution_count": 18,
   "metadata": {
    "collapsed": false,
    "deletable": true,
    "editable": true
   },
   "outputs": [
    {
     "name": "stdout",
     "output_type": "stream",
     "text": [
      "Training...\n",
      "Epoch  1, CIFAR-10 Batch 1:  Loss: 2.1794562339782715 Validation Accuracy: 0.27000001072883606\n",
      "Epoch  1, CIFAR-10 Batch 2:  Loss: 1.902108907699585 Validation Accuracy: 0.3515999913215637\n",
      "Epoch  1, CIFAR-10 Batch 3:  Loss: 1.4594286680221558 Validation Accuracy: 0.40299996733665466\n",
      "Epoch  1, CIFAR-10 Batch 4:  Loss: 1.6433265209197998 Validation Accuracy: 0.41920000314712524\n",
      "Epoch  1, CIFAR-10 Batch 5:  Loss: 1.565744161605835 Validation Accuracy: 0.4617999792098999\n",
      "Epoch  2, CIFAR-10 Batch 1:  Loss: 1.685106635093689 Validation Accuracy: 0.48499995470046997\n",
      "Epoch  2, CIFAR-10 Batch 2:  Loss: 1.3074380159378052 Validation Accuracy: 0.481999933719635\n",
      "Epoch  2, CIFAR-10 Batch 3:  Loss: 1.1009202003479004 Validation Accuracy: 0.5015999674797058\n",
      "Epoch  2, CIFAR-10 Batch 4:  Loss: 1.167429804801941 Validation Accuracy: 0.5267999768257141\n",
      "Epoch  2, CIFAR-10 Batch 5:  Loss: 1.2067433595657349 Validation Accuracy: 0.545199990272522\n",
      "Epoch  3, CIFAR-10 Batch 1:  Loss: 1.3405829668045044 Validation Accuracy: 0.5667999386787415\n",
      "Epoch  3, CIFAR-10 Batch 2:  Loss: 1.1236361265182495 Validation Accuracy: 0.5511999130249023\n",
      "Epoch  3, CIFAR-10 Batch 3:  Loss: 0.9105467796325684 Validation Accuracy: 0.5607999563217163\n",
      "Epoch  3, CIFAR-10 Batch 4:  Loss: 0.9600019454956055 Validation Accuracy: 0.5773999691009521\n",
      "Epoch  3, CIFAR-10 Batch 5:  Loss: 1.0341317653656006 Validation Accuracy: 0.5939999222755432\n",
      "Epoch  4, CIFAR-10 Batch 1:  Loss: 1.154127836227417 Validation Accuracy: 0.6055998802185059\n",
      "Epoch  4, CIFAR-10 Batch 2:  Loss: 0.9656099081039429 Validation Accuracy: 0.6007999777793884\n",
      "Epoch  4, CIFAR-10 Batch 3:  Loss: 0.7179384231567383 Validation Accuracy: 0.6097999215126038\n",
      "Epoch  4, CIFAR-10 Batch 4:  Loss: 0.8372526168823242 Validation Accuracy: 0.6105998754501343\n",
      "Epoch  4, CIFAR-10 Batch 5:  Loss: 0.8884987235069275 Validation Accuracy: 0.6125999093055725\n",
      "Epoch  5, CIFAR-10 Batch 1:  Loss: 1.0285632610321045 Validation Accuracy: 0.6303999423980713\n",
      "Epoch  5, CIFAR-10 Batch 2:  Loss: 0.8243048191070557 Validation Accuracy: 0.6289999485015869\n",
      "Epoch  5, CIFAR-10 Batch 3:  Loss: 0.5906589031219482 Validation Accuracy: 0.6375998854637146\n",
      "Epoch  5, CIFAR-10 Batch 4:  Loss: 0.7108739614486694 Validation Accuracy: 0.6345998644828796\n",
      "Epoch  5, CIFAR-10 Batch 5:  Loss: 0.723511815071106 Validation Accuracy: 0.6375998854637146\n",
      "Epoch  6, CIFAR-10 Batch 1:  Loss: 0.8950231075286865 Validation Accuracy: 0.6517999172210693\n",
      "Epoch  6, CIFAR-10 Batch 2:  Loss: 0.7245849370956421 Validation Accuracy: 0.6409999132156372\n",
      "Epoch  6, CIFAR-10 Batch 3:  Loss: 0.46861013770103455 Validation Accuracy: 0.653999924659729\n",
      "Epoch  6, CIFAR-10 Batch 4:  Loss: 0.6488640308380127 Validation Accuracy: 0.6499998569488525\n",
      "Epoch  6, CIFAR-10 Batch 5:  Loss: 0.6483244895935059 Validation Accuracy: 0.6529998779296875\n",
      "Epoch  7, CIFAR-10 Batch 1:  Loss: 0.7683156132698059 Validation Accuracy: 0.6663998961448669\n",
      "Epoch  7, CIFAR-10 Batch 2:  Loss: 0.6075423359870911 Validation Accuracy: 0.6547999382019043\n",
      "Epoch  7, CIFAR-10 Batch 3:  Loss: 0.4043564796447754 Validation Accuracy: 0.6661999225616455\n",
      "Epoch  7, CIFAR-10 Batch 4:  Loss: 0.5942548513412476 Validation Accuracy: 0.654999852180481\n",
      "Epoch  7, CIFAR-10 Batch 5:  Loss: 0.5112737417221069 Validation Accuracy: 0.6715998649597168\n",
      "Epoch  8, CIFAR-10 Batch 1:  Loss: 0.6105679869651794 Validation Accuracy: 0.6701998710632324\n",
      "Epoch  8, CIFAR-10 Batch 2:  Loss: 0.5066770315170288 Validation Accuracy: 0.6679999232292175\n",
      "Epoch  8, CIFAR-10 Batch 3:  Loss: 0.33862701058387756 Validation Accuracy: 0.6781998872756958\n",
      "Epoch  8, CIFAR-10 Batch 4:  Loss: 0.5520573258399963 Validation Accuracy: 0.6673998236656189\n",
      "Epoch  8, CIFAR-10 Batch 5:  Loss: 0.4366815686225891 Validation Accuracy: 0.6803998947143555\n",
      "Epoch  9, CIFAR-10 Batch 1:  Loss: 0.5323965549468994 Validation Accuracy: 0.6729998588562012\n",
      "Epoch  9, CIFAR-10 Batch 2:  Loss: 0.4230906069278717 Validation Accuracy: 0.6791998744010925\n",
      "Epoch  9, CIFAR-10 Batch 3:  Loss: 0.296903520822525 Validation Accuracy: 0.6873998641967773\n",
      "Epoch  9, CIFAR-10 Batch 4:  Loss: 0.4986099898815155 Validation Accuracy: 0.6781998872756958\n",
      "Epoch  9, CIFAR-10 Batch 5:  Loss: 0.3594709634780884 Validation Accuracy: 0.6933998465538025\n",
      "Epoch 10, CIFAR-10 Batch 1:  Loss: 0.4456017017364502 Validation Accuracy: 0.6889998316764832\n",
      "Epoch 10, CIFAR-10 Batch 2:  Loss: 0.350840300321579 Validation Accuracy: 0.6893998980522156\n",
      "Epoch 10, CIFAR-10 Batch 3:  Loss: 0.2744470536708832 Validation Accuracy: 0.6871998310089111\n",
      "Epoch 10, CIFAR-10 Batch 4:  Loss: 0.4360584020614624 Validation Accuracy: 0.6891999244689941\n",
      "Epoch 10, CIFAR-10 Batch 5:  Loss: 0.30593740940093994 Validation Accuracy: 0.6883998513221741\n",
      "Epoch 11, CIFAR-10 Batch 1:  Loss: 0.36674511432647705 Validation Accuracy: 0.6883999109268188\n",
      "Epoch 11, CIFAR-10 Batch 2:  Loss: 0.2959211766719818 Validation Accuracy: 0.6981998085975647\n",
      "Epoch 11, CIFAR-10 Batch 3:  Loss: 0.23588359355926514 Validation Accuracy: 0.6979998350143433\n",
      "Epoch 11, CIFAR-10 Batch 4:  Loss: 0.3651898503303528 Validation Accuracy: 0.7041998505592346\n",
      "Epoch 11, CIFAR-10 Batch 5:  Loss: 0.26197540760040283 Validation Accuracy: 0.7131998538970947\n",
      "Epoch 12, CIFAR-10 Batch 1:  Loss: 0.297345370054245 Validation Accuracy: 0.6945998668670654\n",
      "Epoch 12, CIFAR-10 Batch 2:  Loss: 0.22650113701820374 Validation Accuracy: 0.6889998912811279\n",
      "Epoch 12, CIFAR-10 Batch 3:  Loss: 0.19916917383670807 Validation Accuracy: 0.6993998885154724\n",
      "Epoch 12, CIFAR-10 Batch 4:  Loss: 0.29891446232795715 Validation Accuracy: 0.7095999121665955\n",
      "Epoch 12, CIFAR-10 Batch 5:  Loss: 0.2206965833902359 Validation Accuracy: 0.7125998735427856\n",
      "Epoch 13, CIFAR-10 Batch 1:  Loss: 0.2685648202896118 Validation Accuracy: 0.7071998119354248\n",
      "Epoch 13, CIFAR-10 Batch 2:  Loss: 0.21003004908561707 Validation Accuracy: 0.7023999094963074\n",
      "Epoch 13, CIFAR-10 Batch 3:  Loss: 0.20930618047714233 Validation Accuracy: 0.6909998655319214\n",
      "Epoch 13, CIFAR-10 Batch 4:  Loss: 0.27930748462677 Validation Accuracy: 0.7101998925209045\n",
      "Epoch 13, CIFAR-10 Batch 5:  Loss: 0.18107867240905762 Validation Accuracy: 0.7143998742103577\n",
      "Epoch 14, CIFAR-10 Batch 1:  Loss: 0.2200082689523697 Validation Accuracy: 0.7091999053955078\n",
      "Epoch 14, CIFAR-10 Batch 2:  Loss: 0.17232823371887207 Validation Accuracy: 0.7063998579978943\n",
      "Epoch 14, CIFAR-10 Batch 3:  Loss: 0.2058170884847641 Validation Accuracy: 0.6903998255729675\n",
      "Epoch 14, CIFAR-10 Batch 4:  Loss: 0.22497202455997467 Validation Accuracy: 0.71399986743927\n",
      "Epoch 14, CIFAR-10 Batch 5:  Loss: 0.1708301305770874 Validation Accuracy: 0.7201998233795166\n",
      "Epoch 15, CIFAR-10 Batch 1:  Loss: 0.2015771120786667 Validation Accuracy: 0.7131998538970947\n",
      "Epoch 15, CIFAR-10 Batch 2:  Loss: 0.15139354765415192 Validation Accuracy: 0.71399986743927\n",
      "Epoch 15, CIFAR-10 Batch 3:  Loss: 0.13962224125862122 Validation Accuracy: 0.7173998355865479\n",
      "Epoch 15, CIFAR-10 Batch 4:  Loss: 0.18067163228988647 Validation Accuracy: 0.7293998599052429\n",
      "Epoch 15, CIFAR-10 Batch 5:  Loss: 0.12988877296447754 Validation Accuracy: 0.7327998280525208\n",
      "Epoch 16, CIFAR-10 Batch 1:  Loss: 0.14151696860790253 Validation Accuracy: 0.7195997834205627\n",
      "Epoch 16, CIFAR-10 Batch 2:  Loss: 0.12745308876037598 Validation Accuracy: 0.7147998213768005\n",
      "Epoch 16, CIFAR-10 Batch 3:  Loss: 0.13769182562828064 Validation Accuracy: 0.7175998687744141\n",
      "Epoch 16, CIFAR-10 Batch 4:  Loss: 0.15175005793571472 Validation Accuracy: 0.7273998260498047\n",
      "Epoch 16, CIFAR-10 Batch 5:  Loss: 0.12248566001653671 Validation Accuracy: 0.726399838924408\n",
      "Epoch 17, CIFAR-10 Batch 1:  Loss: 0.15978342294692993 Validation Accuracy: 0.7223998308181763\n",
      "Epoch 17, CIFAR-10 Batch 2:  Loss: 0.1106860339641571 Validation Accuracy: 0.720599889755249\n",
      "Epoch 17, CIFAR-10 Batch 3:  Loss: 0.09041427075862885 Validation Accuracy: 0.7271998524665833\n",
      "Epoch 17, CIFAR-10 Batch 4:  Loss: 0.15140308439731598 Validation Accuracy: 0.7221998572349548\n",
      "Epoch 17, CIFAR-10 Batch 5:  Loss: 0.1058865562081337 Validation Accuracy: 0.7319998741149902\n",
      "Epoch 18, CIFAR-10 Batch 1:  Loss: 0.11903398483991623 Validation Accuracy: 0.7257997989654541\n",
      "Epoch 18, CIFAR-10 Batch 2:  Loss: 0.08321353793144226 Validation Accuracy: 0.7241997718811035\n",
      "Epoch 18, CIFAR-10 Batch 3:  Loss: 0.09586528688669205 Validation Accuracy: 0.7267999053001404\n",
      "Epoch 18, CIFAR-10 Batch 4:  Loss: 0.134905606508255 Validation Accuracy: 0.7297998666763306\n",
      "Epoch 18, CIFAR-10 Batch 5:  Loss: 0.09103706479072571 Validation Accuracy: 0.7323998808860779\n",
      "Epoch 19, CIFAR-10 Batch 1:  Loss: 0.09970376640558243 Validation Accuracy: 0.7297998666763306\n",
      "Epoch 19, CIFAR-10 Batch 2:  Loss: 0.07469635456800461 Validation Accuracy: 0.7179998159408569\n",
      "Epoch 19, CIFAR-10 Batch 3:  Loss: 0.07226434350013733 Validation Accuracy: 0.7373998761177063\n",
      "Epoch 19, CIFAR-10 Batch 4:  Loss: 0.1077013686299324 Validation Accuracy: 0.7347998023033142\n",
      "Epoch 19, CIFAR-10 Batch 5:  Loss: 0.07039375603199005 Validation Accuracy: 0.7389997839927673\n",
      "Epoch 20, CIFAR-10 Batch 1:  Loss: 0.0857054591178894 Validation Accuracy: 0.7307998538017273\n",
      "Epoch 20, CIFAR-10 Batch 2:  Loss: 0.08656502515077591 Validation Accuracy: 0.7133998274803162\n",
      "Epoch 20, CIFAR-10 Batch 3:  Loss: 0.07531696557998657 Validation Accuracy: 0.7309998273849487\n",
      "Epoch 20, CIFAR-10 Batch 4:  Loss: 0.10756118595600128 Validation Accuracy: 0.7245998978614807\n",
      "Epoch 20, CIFAR-10 Batch 5:  Loss: 0.06479770690202713 Validation Accuracy: 0.7301998138427734\n",
      "Epoch 21, CIFAR-10 Batch 1:  Loss: 0.0668189525604248 Validation Accuracy: 0.725399911403656\n",
      "Epoch 21, CIFAR-10 Batch 2:  Loss: 0.06726986914873123 Validation Accuracy: 0.721599817276001\n",
      "Epoch 21, CIFAR-10 Batch 3:  Loss: 0.06191181018948555 Validation Accuracy: 0.7345998883247375\n",
      "Epoch 21, CIFAR-10 Batch 4:  Loss: 0.08541325479745865 Validation Accuracy: 0.7337998747825623\n",
      "Epoch 21, CIFAR-10 Batch 5:  Loss: 0.06133967265486717 Validation Accuracy: 0.738399863243103\n",
      "Epoch 22, CIFAR-10 Batch 1:  Loss: 0.06794997304677963 Validation Accuracy: 0.7225998044013977\n",
      "Epoch 22, CIFAR-10 Batch 2:  Loss: 0.059916574507951736 Validation Accuracy: 0.7235998511314392\n",
      "Epoch 22, CIFAR-10 Batch 3:  Loss: 0.058911021798849106 Validation Accuracy: 0.738399863243103\n",
      "Epoch 22, CIFAR-10 Batch 4:  Loss: 0.07790067791938782 Validation Accuracy: 0.7211998105049133\n",
      "Epoch 22, CIFAR-10 Batch 5:  Loss: 0.052886493504047394 Validation Accuracy: 0.7389998435974121\n",
      "Epoch 23, CIFAR-10 Batch 1:  Loss: 0.061629749834537506 Validation Accuracy: 0.7307998538017273\n",
      "Epoch 23, CIFAR-10 Batch 2:  Loss: 0.06173151358962059 Validation Accuracy: 0.7235998511314392\n",
      "Epoch 23, CIFAR-10 Batch 3:  Loss: 0.04924836754798889 Validation Accuracy: 0.7381998300552368\n",
      "Epoch 23, CIFAR-10 Batch 4:  Loss: 0.08778649568557739 Validation Accuracy: 0.7215998768806458\n",
      "Epoch 23, CIFAR-10 Batch 5:  Loss: 0.04289697855710983 Validation Accuracy: 0.7447998523712158\n",
      "Epoch 24, CIFAR-10 Batch 1:  Loss: 0.06474695354700089 Validation Accuracy: 0.7165998220443726\n",
      "Epoch 24, CIFAR-10 Batch 2:  Loss: 0.05533400923013687 Validation Accuracy: 0.7175998687744141\n",
      "Epoch 24, CIFAR-10 Batch 3:  Loss: 0.04777894914150238 Validation Accuracy: 0.7351998686790466\n",
      "Epoch 24, CIFAR-10 Batch 4:  Loss: 0.052240658551454544 Validation Accuracy: 0.7307998538017273\n",
      "Epoch 24, CIFAR-10 Batch 5:  Loss: 0.041868921369314194 Validation Accuracy: 0.74319988489151\n",
      "Epoch 25, CIFAR-10 Batch 1:  Loss: 0.0460001602768898 Validation Accuracy: 0.7253997921943665\n",
      "Epoch 25, CIFAR-10 Batch 2:  Loss: 0.04102272540330887 Validation Accuracy: 0.7199998497962952\n",
      "Epoch 25, CIFAR-10 Batch 3:  Loss: 0.03719770908355713 Validation Accuracy: 0.7273998260498047\n",
      "Epoch 25, CIFAR-10 Batch 4:  Loss: 0.06922489404678345 Validation Accuracy: 0.7129998207092285\n",
      "Epoch 25, CIFAR-10 Batch 5:  Loss: 0.05022665113210678 Validation Accuracy: 0.7331998348236084\n",
      "Epoch 26, CIFAR-10 Batch 1:  Loss: 0.03605067729949951 Validation Accuracy: 0.7293998003005981\n",
      "Epoch 26, CIFAR-10 Batch 2:  Loss: 0.039584413170814514 Validation Accuracy: 0.7303998470306396\n",
      "Epoch 26, CIFAR-10 Batch 3:  Loss: 0.03995753079652786 Validation Accuracy: 0.7217997908592224\n",
      "Epoch 26, CIFAR-10 Batch 4:  Loss: 0.06297552585601807 Validation Accuracy: 0.7109998464584351\n",
      "Epoch 26, CIFAR-10 Batch 5:  Loss: 0.030475586652755737 Validation Accuracy: 0.7445998191833496\n",
      "Epoch 27, CIFAR-10 Batch 1:  Loss: 0.03668280690908432 Validation Accuracy: 0.734799861907959\n",
      "Epoch 27, CIFAR-10 Batch 2:  Loss: 0.04926912486553192 Validation Accuracy: 0.7263997793197632\n",
      "Epoch 27, CIFAR-10 Batch 3:  Loss: 0.026593666523694992 Validation Accuracy: 0.7319998741149902\n",
      "Epoch 27, CIFAR-10 Batch 4:  Loss: 0.06387220323085785 Validation Accuracy: 0.7127998471260071\n",
      "Epoch 27, CIFAR-10 Batch 5:  Loss: 0.022921495139598846 Validation Accuracy: 0.7311998605728149\n",
      "Epoch 28, CIFAR-10 Batch 1:  Loss: 0.030876249074935913 Validation Accuracy: 0.7295998334884644\n",
      "Epoch 28, CIFAR-10 Batch 2:  Loss: 0.0358300618827343 Validation Accuracy: 0.7263998985290527\n",
      "Epoch 28, CIFAR-10 Batch 3:  Loss: 0.022231796756386757 Validation Accuracy: 0.726399838924408\n",
      "Epoch 28, CIFAR-10 Batch 4:  Loss: 0.031646978110075 Validation Accuracy: 0.7265998125076294\n",
      "Epoch 28, CIFAR-10 Batch 5:  Loss: 0.02275077998638153 Validation Accuracy: 0.7465998530387878\n",
      "Epoch 29, CIFAR-10 Batch 1:  Loss: 0.019020777195692062 Validation Accuracy: 0.7343998551368713\n",
      "Epoch 29, CIFAR-10 Batch 2:  Loss: 0.0316307507455349 Validation Accuracy: 0.7287998795509338\n",
      "Epoch 29, CIFAR-10 Batch 3:  Loss: 0.030420485883951187 Validation Accuracy: 0.7259998321533203\n",
      "Epoch 29, CIFAR-10 Batch 4:  Loss: 0.03101094625890255 Validation Accuracy: 0.7247998714447021\n",
      "Epoch 29, CIFAR-10 Batch 5:  Loss: 0.027604199945926666 Validation Accuracy: 0.7331998348236084\n",
      "Epoch 30, CIFAR-10 Batch 1:  Loss: 0.02161543071269989 Validation Accuracy: 0.737599790096283\n",
      "Epoch 30, CIFAR-10 Batch 2:  Loss: 0.024301769211888313 Validation Accuracy: 0.7173998355865479\n",
      "Epoch 30, CIFAR-10 Batch 3:  Loss: 0.03575887531042099 Validation Accuracy: 0.7205998301506042\n",
      "Epoch 30, CIFAR-10 Batch 4:  Loss: 0.03127468377351761 Validation Accuracy: 0.7201998829841614\n",
      "Epoch 30, CIFAR-10 Batch 5:  Loss: 0.019652513787150383 Validation Accuracy: 0.7395998239517212\n",
      "Epoch 31, CIFAR-10 Batch 1:  Loss: 0.020307185128331184 Validation Accuracy: 0.7299997806549072\n",
      "Epoch 31, CIFAR-10 Batch 2:  Loss: 0.014652733691036701 Validation Accuracy: 0.7291998267173767\n",
      "Epoch 31, CIFAR-10 Batch 3:  Loss: 0.02729080244898796 Validation Accuracy: 0.7283998727798462\n",
      "Epoch 31, CIFAR-10 Batch 4:  Loss: 0.02817522920668125 Validation Accuracy: 0.7303997874259949\n",
      "Epoch 31, CIFAR-10 Batch 5:  Loss: 0.016987651586532593 Validation Accuracy: 0.7361999154090881\n",
      "Epoch 32, CIFAR-10 Batch 1:  Loss: 0.02837562933564186 Validation Accuracy: 0.7317997813224792\n",
      "Epoch 32, CIFAR-10 Batch 2:  Loss: 0.01694626733660698 Validation Accuracy: 0.7213998436927795\n",
      "Epoch 32, CIFAR-10 Batch 3:  Loss: 0.015477849170565605 Validation Accuracy: 0.7299998998641968\n",
      "Epoch 32, CIFAR-10 Batch 4:  Loss: 0.01886840909719467 Validation Accuracy: 0.7321997880935669\n",
      "Epoch 32, CIFAR-10 Batch 5:  Loss: 0.013970211148262024 Validation Accuracy: 0.7437998652458191\n",
      "Epoch 33, CIFAR-10 Batch 1:  Loss: 0.023928161710500717 Validation Accuracy: 0.7301998138427734\n",
      "Epoch 33, CIFAR-10 Batch 2:  Loss: 0.016216475516557693 Validation Accuracy: 0.7253998517990112\n",
      "Epoch 33, CIFAR-10 Batch 3:  Loss: 0.015134645625948906 Validation Accuracy: 0.7337998151779175\n",
      "Epoch 33, CIFAR-10 Batch 4:  Loss: 0.01612575352191925 Validation Accuracy: 0.7403998374938965\n",
      "Epoch 33, CIFAR-10 Batch 5:  Loss: 0.01285513211041689 Validation Accuracy: 0.7421998977661133\n",
      "Epoch 34, CIFAR-10 Batch 1:  Loss: 0.01721792295575142 Validation Accuracy: 0.7379998564720154\n",
      "Epoch 34, CIFAR-10 Batch 2:  Loss: 0.016385896131396294 Validation Accuracy: 0.721599817276001\n",
      "Epoch 34, CIFAR-10 Batch 3:  Loss: 0.013801250606775284 Validation Accuracy: 0.7307999134063721\n",
      "Epoch 34, CIFAR-10 Batch 4:  Loss: 0.0278756245970726 Validation Accuracy: 0.7261998653411865\n",
      "Epoch 34, CIFAR-10 Batch 5:  Loss: 0.012975210323929787 Validation Accuracy: 0.730199933052063\n",
      "Epoch 35, CIFAR-10 Batch 1:  Loss: 0.022658811882138252 Validation Accuracy: 0.7301998734474182\n",
      "Epoch 35, CIFAR-10 Batch 2:  Loss: 0.016796298325061798 Validation Accuracy: 0.7297999262809753\n",
      "Epoch 35, CIFAR-10 Batch 3:  Loss: 0.01346661988645792 Validation Accuracy: 0.7353997826576233\n",
      "Epoch 35, CIFAR-10 Batch 4:  Loss: 0.022386077791452408 Validation Accuracy: 0.7313998937606812\n",
      "Epoch 35, CIFAR-10 Batch 5:  Loss: 0.012159658595919609 Validation Accuracy: 0.7369998693466187\n",
      "Epoch 36, CIFAR-10 Batch 1:  Loss: 0.01946905255317688 Validation Accuracy: 0.7277997732162476\n",
      "Epoch 36, CIFAR-10 Batch 2:  Loss: 0.014774041250348091 Validation Accuracy: 0.7175997495651245\n",
      "Epoch 36, CIFAR-10 Batch 3:  Loss: 0.01496855914592743 Validation Accuracy: 0.7307998538017273\n",
      "Epoch 36, CIFAR-10 Batch 4:  Loss: 0.01726257987320423 Validation Accuracy: 0.7271998524665833\n",
      "Epoch 36, CIFAR-10 Batch 5:  Loss: 0.007948515936732292 Validation Accuracy: 0.7199998497962952\n",
      "Epoch 37, CIFAR-10 Batch 1:  Loss: 0.011198000982403755 Validation Accuracy: 0.7315998673439026\n",
      "Epoch 37, CIFAR-10 Batch 2:  Loss: 0.008061622269451618 Validation Accuracy: 0.716799795627594\n",
      "Epoch 37, CIFAR-10 Batch 3:  Loss: 0.027235765010118484 Validation Accuracy: 0.7223998308181763\n",
      "Epoch 37, CIFAR-10 Batch 4:  Loss: 0.01701366901397705 Validation Accuracy: 0.7283998727798462\n",
      "Epoch 37, CIFAR-10 Batch 5:  Loss: 0.021167941391468048 Validation Accuracy: 0.7161998748779297\n",
      "Epoch 38, CIFAR-10 Batch 1:  Loss: 0.021133562549948692 Validation Accuracy: 0.7081997990608215\n",
      "Epoch 38, CIFAR-10 Batch 2:  Loss: 0.013924814760684967 Validation Accuracy: 0.7193998694419861\n",
      "Epoch 38, CIFAR-10 Batch 3:  Loss: 0.01881220005452633 Validation Accuracy: 0.7193998098373413\n",
      "Epoch 38, CIFAR-10 Batch 4:  Loss: 0.012054278515279293 Validation Accuracy: 0.7327998280525208\n",
      "Epoch 38, CIFAR-10 Batch 5:  Loss: 0.00861369352787733 Validation Accuracy: 0.710399866104126\n",
      "Epoch 39, CIFAR-10 Batch 1:  Loss: 0.011176403611898422 Validation Accuracy: 0.7019999027252197\n",
      "Epoch 39, CIFAR-10 Batch 2:  Loss: 0.006315463222563267 Validation Accuracy: 0.718799889087677\n",
      "Epoch 39, CIFAR-10 Batch 3:  Loss: 0.014983992092311382 Validation Accuracy: 0.7113998532295227\n",
      "Epoch 39, CIFAR-10 Batch 4:  Loss: 0.011210953816771507 Validation Accuracy: 0.7325999140739441\n",
      "Epoch 39, CIFAR-10 Batch 5:  Loss: 0.012211319990456104 Validation Accuracy: 0.703799843788147\n",
      "Epoch 40, CIFAR-10 Batch 1:  Loss: 0.009008866734802723 Validation Accuracy: 0.7105998396873474\n",
      "Epoch 40, CIFAR-10 Batch 2:  Loss: 0.013316742144525051 Validation Accuracy: 0.7145998477935791\n",
      "Epoch 40, CIFAR-10 Batch 3:  Loss: 0.015397144481539726 Validation Accuracy: 0.7179998755455017\n",
      "Epoch 40, CIFAR-10 Batch 4:  Loss: 0.014568411745131016 Validation Accuracy: 0.72819983959198\n",
      "Epoch 40, CIFAR-10 Batch 5:  Loss: 0.013614353723824024 Validation Accuracy: 0.7011998295783997\n",
      "Epoch 41, CIFAR-10 Batch 1:  Loss: 0.009506631642580032 Validation Accuracy: 0.7191998958587646\n",
      "Epoch 41, CIFAR-10 Batch 2:  Loss: 0.009697547182440758 Validation Accuracy: 0.7079998850822449\n",
      "Epoch 41, CIFAR-10 Batch 3:  Loss: 0.008859297260642052 Validation Accuracy: 0.7193998098373413\n",
      "Epoch 41, CIFAR-10 Batch 4:  Loss: 0.00678451731801033 Validation Accuracy: 0.7259997725486755\n",
      "Epoch 41, CIFAR-10 Batch 5:  Loss: 0.01521525252610445 Validation Accuracy: 0.6955998539924622\n",
      "Epoch 42, CIFAR-10 Batch 1:  Loss: 0.010567565448582172 Validation Accuracy: 0.7263998985290527\n",
      "Epoch 42, CIFAR-10 Batch 2:  Loss: 0.008380547165870667 Validation Accuracy: 0.7163999080657959\n",
      "Epoch 42, CIFAR-10 Batch 3:  Loss: 0.008775095455348492 Validation Accuracy: 0.7217998504638672\n",
      "Epoch 42, CIFAR-10 Batch 4:  Loss: 0.011517632752656937 Validation Accuracy: 0.7295998334884644\n",
      "Epoch 42, CIFAR-10 Batch 5:  Loss: 0.007694563828408718 Validation Accuracy: 0.7093998193740845\n",
      "Epoch 43, CIFAR-10 Batch 1:  Loss: 0.012548528611660004 Validation Accuracy: 0.7179998159408569\n",
      "Epoch 43, CIFAR-10 Batch 2:  Loss: 0.005040677264332771 Validation Accuracy: 0.7219998240470886\n",
      "Epoch 43, CIFAR-10 Batch 3:  Loss: 0.008653046563267708 Validation Accuracy: 0.7149998545646667\n",
      "Epoch 43, CIFAR-10 Batch 4:  Loss: 0.012635357677936554 Validation Accuracy: 0.72819983959198\n",
      "Epoch 43, CIFAR-10 Batch 5:  Loss: 0.017469285055994987 Validation Accuracy: 0.7175998687744141\n",
      "Epoch 44, CIFAR-10 Batch 1:  Loss: 0.00809108279645443 Validation Accuracy: 0.7161998748779297\n",
      "Epoch 44, CIFAR-10 Batch 2:  Loss: 0.003435675986111164 Validation Accuracy: 0.7261998653411865\n",
      "Epoch 44, CIFAR-10 Batch 3:  Loss: 0.007737749721854925 Validation Accuracy: 0.7177998423576355\n",
      "Epoch 44, CIFAR-10 Batch 4:  Loss: 0.010161279700696468 Validation Accuracy: 0.7239998579025269\n",
      "Epoch 44, CIFAR-10 Batch 5:  Loss: 0.009620457887649536 Validation Accuracy: 0.7235998511314392\n",
      "Epoch 45, CIFAR-10 Batch 1:  Loss: 0.007354246452450752 Validation Accuracy: 0.7151999473571777\n",
      "Epoch 45, CIFAR-10 Batch 2:  Loss: 0.00569501705467701 Validation Accuracy: 0.7245998978614807\n",
      "Epoch 45, CIFAR-10 Batch 3:  Loss: 0.005958446301519871 Validation Accuracy: 0.7367998361587524\n",
      "Epoch 45, CIFAR-10 Batch 4:  Loss: 0.005628648214042187 Validation Accuracy: 0.7301998138427734\n",
      "Epoch 45, CIFAR-10 Batch 5:  Loss: 0.008847532793879509 Validation Accuracy: 0.7261998653411865\n",
      "Epoch 46, CIFAR-10 Batch 1:  Loss: 0.004715684801340103 Validation Accuracy: 0.7119998335838318\n",
      "Epoch 46, CIFAR-10 Batch 2:  Loss: 0.004231190774589777 Validation Accuracy: 0.7177998423576355\n",
      "Epoch 46, CIFAR-10 Batch 3:  Loss: 0.0033907771576195955 Validation Accuracy: 0.7295998930931091\n",
      "Epoch 46, CIFAR-10 Batch 4:  Loss: 0.007770232856273651 Validation Accuracy: 0.7257998585700989\n",
      "Epoch 46, CIFAR-10 Batch 5:  Loss: 0.006196147296577692 Validation Accuracy: 0.7191998362541199\n",
      "Epoch 47, CIFAR-10 Batch 1:  Loss: 0.005101105198264122 Validation Accuracy: 0.6949998736381531\n",
      "Epoch 47, CIFAR-10 Batch 2:  Loss: 0.0022357148118317127 Validation Accuracy: 0.7173998355865479\n",
      "Epoch 47, CIFAR-10 Batch 3:  Loss: 0.005379104055464268 Validation Accuracy: 0.7325997948646545\n",
      "Epoch 47, CIFAR-10 Batch 4:  Loss: 0.0074000428430736065 Validation Accuracy: 0.7247998714447021\n",
      "Epoch 47, CIFAR-10 Batch 5:  Loss: 0.003514528274536133 Validation Accuracy: 0.7147998809814453\n",
      "Epoch 48, CIFAR-10 Batch 1:  Loss: 0.0026004717219620943 Validation Accuracy: 0.7131998538970947\n",
      "Epoch 48, CIFAR-10 Batch 2:  Loss: 0.002913807751610875 Validation Accuracy: 0.721599817276001\n",
      "Epoch 48, CIFAR-10 Batch 3:  Loss: 0.0028963014483451843 Validation Accuracy: 0.7303998470306396\n",
      "Epoch 48, CIFAR-10 Batch 4:  Loss: 0.006805293262004852 Validation Accuracy: 0.723399817943573\n",
      "Epoch 48, CIFAR-10 Batch 5:  Loss: 0.0034592505544424057 Validation Accuracy: 0.730999767780304\n",
      "Epoch 49, CIFAR-10 Batch 1:  Loss: 0.005669131875038147 Validation Accuracy: 0.7107998132705688\n",
      "Epoch 49, CIFAR-10 Batch 2:  Loss: 0.005602519027888775 Validation Accuracy: 0.7231998443603516\n",
      "Epoch 49, CIFAR-10 Batch 3:  Loss: 0.004744412377476692 Validation Accuracy: 0.7245998978614807\n",
      "Epoch 49, CIFAR-10 Batch 4:  Loss: 0.006536140572279692 Validation Accuracy: 0.7299998998641968\n",
      "Epoch 49, CIFAR-10 Batch 5:  Loss: 0.003616451285779476 Validation Accuracy: 0.7229998707771301\n",
      "Epoch 50, CIFAR-10 Batch 1:  Loss: 0.0022828783839941025 Validation Accuracy: 0.7235998511314392\n",
      "Epoch 50, CIFAR-10 Batch 2:  Loss: 0.0034096103627234697 Validation Accuracy: 0.7181997299194336\n",
      "Epoch 50, CIFAR-10 Batch 3:  Loss: 0.005882409401237965 Validation Accuracy: 0.7327998280525208\n",
      "Epoch 50, CIFAR-10 Batch 4:  Loss: 0.009004820138216019 Validation Accuracy: 0.7221998572349548\n",
      "Epoch 50, CIFAR-10 Batch 5:  Loss: 0.0015188799006864429 Validation Accuracy: 0.7241998910903931\n"
     ]
    }
   ],
   "source": [
    "\"\"\"\n",
    "DON'T MODIFY ANYTHING IN THIS CELL\n",
    "\"\"\"\n",
    "save_model_path = './image_classification'\n",
    "\n",
    "print('Training...')\n",
    "with tf.Session() as sess:\n",
    "    # Initializing the variables\n",
    "    sess.run(tf.global_variables_initializer())\n",
    "    \n",
    "    # Training cycle\n",
    "    for epoch in range(epochs):\n",
    "        # Loop over all batches\n",
    "        n_batches = 5\n",
    "        for batch_i in range(1, n_batches + 1):\n",
    "            for batch_features, batch_labels in helper.load_preprocess_training_batch(batch_i, batch_size):\n",
    "                train_neural_network(sess, optimizer, keep_probability, batch_features, batch_labels)\n",
    "            print('Epoch {:>2}, CIFAR-10 Batch {}:  '.format(epoch + 1, batch_i), end='')\n",
    "            print_stats(sess, batch_features, batch_labels, cost, accuracy)\n",
    "            \n",
    "    # Save Model\n",
    "    saver = tf.train.Saver()\n",
    "    save_path = saver.save(sess, save_model_path)"
   ]
  },
  {
   "cell_type": "markdown",
   "metadata": {
    "deletable": true,
    "editable": true
   },
   "source": [
    "# Checkpoint\n",
    "The model has been saved to disk.\n",
    "## Test Model\n",
    "Test your model against the test dataset.  This will be your final accuracy. You should have an accuracy greater than 50%. If you don't, keep tweaking the model architecture and parameters."
   ]
  },
  {
   "cell_type": "code",
   "execution_count": 20,
   "metadata": {
    "collapsed": false,
    "deletable": true,
    "editable": true
   },
   "outputs": [
    {
     "name": "stdout",
     "output_type": "stream",
     "text": [
      "Testing Accuracy: 0.7208984375\n",
      "\n"
     ]
    },
    {
     "data": {
      "image/png": "[encoded data removed]",
      "text/plain": [
       "<matplotlib.figure.Figure at 0x7f27e009ee48>"
      ]
     },
     "metadata": {
      "image/png": {
       "height": 319,
       "width": 354
      }
     },
     "output_type": "display_data"
    }
   ],
   "source": [
    "\"\"\"\n",
    "DON'T MODIFY ANYTHING IN THIS CELL\n",
    "\"\"\"\n",
    "%matplotlib inline\n",
    "%config InlineBackend.figure_format = 'retina'\n",
    "\n",
    "import tensorflow as tf\n",
    "import pickle\n",
    "import helper\n",
    "import random\n",
    "\n",
    "# Set batch size if not already set\n",
    "try:\n",
    "    if batch_size:\n",
    "        pass\n",
    "except NameError:\n",
    "    batch_size = 64\n",
    "\n",
    "save_model_path = './image_classification'\n",
    "n_samples = 4\n",
    "top_n_predictions = 3\n",
    "\n",
    "def test_model():\n",
    "    \"\"\"\n",
    "    Test the saved model against the test dataset\n",
    "    \"\"\"\n",
    "\n",
    "    test_features, test_labels = pickle.load(open('preprocess_training.p', mode='rb'))\n",
    "    loaded_graph = tf.Graph()\n",
    "\n",
    "    with tf.Session(graph=loaded_graph) as sess:\n",
    "        # Load model\n",
    "        loader = tf.train.import_meta_graph(save_model_path + '.meta')\n",
    "        loader.restore(sess, save_model_path)\n",
    "\n",
    "        # Get Tensors from loaded model\n",
    "        loaded_x = loaded_graph.get_tensor_by_name('x:0')\n",
    "        loaded_y = loaded_graph.get_tensor_by_name('y:0')\n",
    "        loaded_keep_prob = loaded_graph.get_tensor_by_name('keep_prob:0')\n",
    "        loaded_logits = loaded_graph.get_tensor_by_name('logits:0')\n",
    "        loaded_acc = loaded_graph.get_tensor_by_name('accuracy:0')\n",
    "        \n",
    "        # Get accuracy in batches for memory limitations\n",
    "        test_batch_acc_total = 0\n",
    "        test_batch_count = 0\n",
    "        \n",
    "        for train_feature_batch, train_label_batch in helper.batch_features_labels(test_features, test_labels, batch_size):\n",
    "            test_batch_acc_total += sess.run(\n",
    "                loaded_acc,\n",
    "                feed_dict={loaded_x: train_feature_batch, loaded_y: train_label_batch, loaded_keep_prob: 1.0})\n",
    "            test_batch_count += 1\n",
    "\n",
    "        print('Testing Accuracy: {}\\n'.format(test_batch_acc_total/test_batch_count))\n",
    "\n",
    "        # Print Random Samples\n",
    "        random_test_features, random_test_labels = tuple(zip(*random.sample(list(zip(test_features, test_labels)), n_samples)))\n",
    "        random_test_predictions = sess.run(\n",
    "            tf.nn.top_k(tf.nn.softmax(loaded_logits), top_n_predictions),\n",
    "            feed_dict={loaded_x: random_test_features, loaded_y: random_test_labels, loaded_keep_prob: 1.0})\n",
    "        helper.display_image_predictions(random_test_features, random_test_labels, random_test_predictions)\n",
    "\n",
    "\n",
    "test_model()"
   ]
  },
  {
   "cell_type": "markdown",
   "metadata": {
    "deletable": true,
    "editable": true
   },
   "source": [
    "## Why 50-80% Accuracy?\n",
    "You might be wondering why you can't get an accuracy any higher. First things first, 50% isn't bad for a simple CNN.  Pure guessing would get you 10% accuracy. However, you might notice people are getting scores [well above 80%](http://rodrigob.github.io/are_we_there_yet/build/classification_datasets_results.html#43494641522d3130).  That's because we haven't taught you all there is to know about neural networks. We still need to cover a few more techniques.\n",
    "## Submitting This Project\n",
    "When submitting this project, make sure to run all the cells before saving the notebook.  Save the notebook file as \"dlnd_image_classification.ipynb\" and save it as a HTML file under \"File\" -> \"Download as\".  Include the \"helper.py\" and \"problem_unittests.py\" files in your submission."
   ]
  },
  {
   "cell_type": "code",
   "execution_count": null,
   "metadata": {
    "collapsed": true,
    "deletable": true,
    "editable": true
   },
   "outputs": [],
   "source": []
  }
 ],
 "metadata": {
  "kernelspec": {
   "display_name": "Python 3",
   "language": "python",
   "name": "python3"
  },
  "language_info": {
   "codemirror_mode": {
    "name": "ipython",
    "version": 3
   },
   "file_extension": ".py",
   "mimetype": "text/x-python",
   "name": "python",
   "nbconvert_exporter": "python",
   "pygments_lexer": "ipython3",
   "version": "3.5.2"
  },
  "widgets": {
   "state": {},
   "version": "1.1.2"
  }
 },
 "nbformat": 4,
 "nbformat_minor": 0
}
